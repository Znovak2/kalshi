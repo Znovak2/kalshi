{
 "cells": [
  {
   "cell_type": "markdown",
   "id": "fd290500",
   "metadata": {},
   "source": [
    "# 7-Day Average NYC Subway Riders\n",
    "## Summary\n",
    "The purpose of this notebook is to predict the next day's number of daily subway riders. Once the prediction is made, the prediction is appended to a file containing these predictions. "
   ]
  },
  {
   "cell_type": "markdown",
   "id": "1a279809",
   "metadata": {},
   "source": [
    "## Pull data"
   ]
  },
  {
   "cell_type": "code",
   "execution_count": 1,
   "id": "8bc1973b",
   "metadata": {},
   "outputs": [
    {
     "name": "stdout",
     "output_type": "stream",
     "text": [
      "[\n",
      "    {\n",
      "        \"date\": \"2025-08-12T00:00:00.000\",\n",
      "        \"mode\": \"MNR\",\n",
      "        \"count\": \"225090.0\"\n",
      "    },\n",
      "    {\n",
      "        \"date\": \"2025-08-12T00:00:00.000\",\n",
      "        \"mode\": \"SIR\",\n",
      "        \"count\": \"7365.0\"\n",
      "    },\n",
      "    {\n",
      "        \"date\": \"2025-08-12T00:00:00.000\",\n",
      "        \"mode\": \"Bus\",\n",
      "        \"count\": \"1327749.0\"\n",
      "    }\n",
      "]\n"
     ]
    }
   ],
   "source": [
    "import requests\n",
    "import json\n",
    "\n",
    "def get_ny_data():\n",
    "    url = \"https://data.ny.gov/resource/sayj-mze2.json\"\n",
    "    try:\n",
    "        response = requests.get(url)\n",
    "        response.raise_for_status()  # Raise HTTPError for bad responses (4xx or 5xx)\n",
    "        data = response.json()\n",
    "        return data\n",
    "    except requests.exceptions.RequestException as e:\n",
    "        print(f\"An error occurred: {e}\")\n",
    "        return None\n",
    "\n",
    "if __name__ == \"__main__\":\n",
    "    ny_data = get_ny_data()\n",
    "    if ny_data:\n",
    "        print(json.dumps(ny_data[:3], indent=4))\n",
    "    else:\n",
    "        print(\"No data retrieved.\")"
   ]
  },
  {
   "cell_type": "markdown",
   "id": "53a81a4d",
   "metadata": {},
   "source": [
    "## Pre-process data"
   ]
  },
  {
   "cell_type": "code",
   "execution_count": 36,
   "id": "96e0b6c1",
   "metadata": {},
   "outputs": [
    {
     "data": {
      "text/html": [
       "<div>\n",
       "<style scoped>\n",
       "    .dataframe tbody tr th:only-of-type {\n",
       "        vertical-align: middle;\n",
       "    }\n",
       "\n",
       "    .dataframe tbody tr th {\n",
       "        vertical-align: top;\n",
       "    }\n",
       "\n",
       "    .dataframe thead th {\n",
       "        text-align: right;\n",
       "    }\n",
       "</style>\n",
       "<table border=\"1\" class=\"dataframe\">\n",
       "  <thead>\n",
       "    <tr style=\"text-align: right;\">\n",
       "      <th></th>\n",
       "      <th>date</th>\n",
       "      <th>count</th>\n",
       "      <th>7_day_avg</th>\n",
       "    </tr>\n",
       "  </thead>\n",
       "  <tbody>\n",
       "    <tr>\n",
       "      <th>995</th>\n",
       "      <td>2025-04-04T00:00:00.000</td>\n",
       "      <td>3990036.0</td>\n",
       "      <td>NaN</td>\n",
       "    </tr>\n",
       "    <tr>\n",
       "      <th>987</th>\n",
       "      <td>2025-04-05T00:00:00.000</td>\n",
       "      <td>2658935.0</td>\n",
       "      <td>NaN</td>\n",
       "    </tr>\n",
       "    <tr>\n",
       "      <th>971</th>\n",
       "      <td>2025-04-06T00:00:00.000</td>\n",
       "      <td>2059867.0</td>\n",
       "      <td>NaN</td>\n",
       "    </tr>\n",
       "    <tr>\n",
       "      <th>965</th>\n",
       "      <td>2025-04-07T00:00:00.000</td>\n",
       "      <td>3848628.0</td>\n",
       "      <td>NaN</td>\n",
       "    </tr>\n",
       "    <tr>\n",
       "      <th>961</th>\n",
       "      <td>2025-04-08T00:00:00.000</td>\n",
       "      <td>4324220.0</td>\n",
       "      <td>NaN</td>\n",
       "    </tr>\n",
       "  </tbody>\n",
       "</table>\n",
       "</div>"
      ],
      "text/plain": [
       "                        date      count  7_day_avg\n",
       "995  2025-04-04T00:00:00.000  3990036.0        NaN\n",
       "987  2025-04-05T00:00:00.000  2658935.0        NaN\n",
       "971  2025-04-06T00:00:00.000  2059867.0        NaN\n",
       "965  2025-04-07T00:00:00.000  3848628.0        NaN\n",
       "961  2025-04-08T00:00:00.000  4324220.0        NaN"
      ]
     },
     "execution_count": 36,
     "metadata": {},
     "output_type": "execute_result"
    }
   ],
   "source": [
    "import pandas as pd\n",
    "\n",
    "def clean_data(ny_data_df):\n",
    "    # Filter rows based on column: 'mode'\n",
    "    ny_data_df = ny_data_df[ny_data_df['mode'].str.contains(\"Subway\", regex=False, na=False, case=False)]\n",
    "    # Calculate 7-day trailing average of 'count' in descending date order\n",
    "    ny_data_df['7_day_avg'] = (\n",
    "        ny_data_df['count']\n",
    "        .astype(float)\n",
    "        .iloc[::-1]  # Reverse the order for correct trailing average\n",
    "        .rolling(window=7)\n",
    "        .mean()\n",
    "        .iloc[::-1]  # Reverse back to original order\n",
    "    )\n",
    "    ny_data_df.drop(columns=['mode'], inplace=True)\n",
    "    return ny_data_df\n",
    "\n",
    "# Loaded variable 'ny_data' from kernel state\n",
    "ny_data_df = pd.DataFrame(ny_data)\n",
    "ny_data_df_clean = clean_data(ny_data_df.copy())\n",
    "ny_data_df_clean = ny_data_df_clean.sort_values(by='date', ascending=True)\n",
    "ny_data_df_clean.head()"
   ]
  },
  {
   "cell_type": "code",
   "execution_count": 37,
   "id": "e5335c8d",
   "metadata": {},
   "outputs": [
    {
     "data": {
      "text/html": [
       "<div>\n",
       "<style scoped>\n",
       "    .dataframe tbody tr th:only-of-type {\n",
       "        vertical-align: middle;\n",
       "    }\n",
       "\n",
       "    .dataframe tbody tr th {\n",
       "        vertical-align: top;\n",
       "    }\n",
       "\n",
       "    .dataframe thead th {\n",
       "        text-align: right;\n",
       "    }\n",
       "</style>\n",
       "<table border=\"1\" class=\"dataframe\">\n",
       "  <thead>\n",
       "    <tr style=\"text-align: right;\">\n",
       "      <th></th>\n",
       "      <th>date</th>\n",
       "      <th>count</th>\n",
       "      <th>7_day_avg</th>\n",
       "    </tr>\n",
       "  </thead>\n",
       "  <tbody>\n",
       "    <tr>\n",
       "      <th>30</th>\n",
       "      <td>2025-08-07T00:00:00.000</td>\n",
       "      <td>3944006.0</td>\n",
       "      <td>3.414440e+06</td>\n",
       "    </tr>\n",
       "    <tr>\n",
       "      <th>27</th>\n",
       "      <td>2025-08-08T00:00:00.000</td>\n",
       "      <td>3653380.0</td>\n",
       "      <td>3.422360e+06</td>\n",
       "    </tr>\n",
       "    <tr>\n",
       "      <th>19</th>\n",
       "      <td>2025-08-09T00:00:00.000</td>\n",
       "      <td>2669104.0</td>\n",
       "      <td>3.423458e+06</td>\n",
       "    </tr>\n",
       "    <tr>\n",
       "      <th>12</th>\n",
       "      <td>2025-08-10T00:00:00.000</td>\n",
       "      <td>2199245.0</td>\n",
       "      <td>3.436332e+06</td>\n",
       "    </tr>\n",
       "    <tr>\n",
       "      <th>2</th>\n",
       "      <td>2025-08-11T00:00:00.000</td>\n",
       "      <td>3536290.0</td>\n",
       "      <td>3.426744e+06</td>\n",
       "    </tr>\n",
       "  </tbody>\n",
       "</table>\n",
       "</div>"
      ],
      "text/plain": [
       "                       date      count     7_day_avg\n",
       "30  2025-08-07T00:00:00.000  3944006.0  3.414440e+06\n",
       "27  2025-08-08T00:00:00.000  3653380.0  3.422360e+06\n",
       "19  2025-08-09T00:00:00.000  2669104.0  3.423458e+06\n",
       "12  2025-08-10T00:00:00.000  2199245.0  3.436332e+06\n",
       "2   2025-08-11T00:00:00.000  3536290.0  3.426744e+06"
      ]
     },
     "execution_count": 37,
     "metadata": {},
     "output_type": "execute_result"
    }
   ],
   "source": [
    "ny_data_df_clean.tail()"
   ]
  },
  {
   "cell_type": "markdown",
   "id": "78f41de3",
   "metadata": {},
   "source": [
    "## Save to subway_predictions.csv"
   ]
  },
  {
   "cell_type": "code",
   "execution_count": null,
   "id": "d0b1d83e",
   "metadata": {},
   "outputs": [],
   "source": [
    "# True/False to save the run to CSV\n",
    "SAVE_TO_CSV = False\n",
    "if SAVE_TO_CSV:\n",
    "    import os, csv\n",
    "    from datetime import datetime\n",
    "    log_file = 'C:\\\\Users\\\\Setup User\\\\Documents\\\\Codespaces\\\\MR Technology projects\\\\kalshi\\\\transportation\\\\Zach\\\\subway_predictions.csv'\n",
    "    file_exists = os.path.isfile(log_file)\n",
    "    with open(log_file, 'a', newline='') as f:\n",
    "        writer = csv.writer(f)\n",
    "        if not file_exists:\n",
    "            writer.writerow(['target_date', 'predicted', 'predicted_at'])\n",
    "        writer.writerow([DARTS_NEXT_DATE.strftime('%Y-%m-%d'), DARTS_NEXT_VALUE, datetime.now().isoformat()])\n",
    "    print(f\"Logged Darts prediction {DARTS_NEXT_VALUE:.2f} for {DARTS_NEXT_DATE.date()}\")"
   ]
  }
 ],
 "metadata": {
  "kernelspec": {
   "display_name": ".venv",
   "language": "python",
   "name": "python3"
  },
  "language_info": {
   "codemirror_mode": {
    "name": "ipython",
    "version": 3
   },
   "file_extension": ".py",
   "mimetype": "text/x-python",
   "name": "python",
   "nbconvert_exporter": "python",
   "pygments_lexer": "ipython3",
   "version": "3.12.0"
  }
 },
 "nbformat": 4,
 "nbformat_minor": 5
}
