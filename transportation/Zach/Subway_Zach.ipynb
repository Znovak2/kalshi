{
 "cells": [
  {
   "cell_type": "markdown",
   "id": "fd290500",
   "metadata": {},
   "source": [
    "# 7-Day Average NYC Subway Riders\n",
    "## Summary\n",
    "The purpose of this notebook is to predict the next day's number of daily subway riders. Once the prediction is made, the prediction is appended to a file containing these predictions. "
   ]
  },
  {
   "cell_type": "markdown",
   "id": "1a279809",
   "metadata": {},
   "source": [
    "## Pull data"
   ]
  },
  {
   "cell_type": "code",
   "execution_count": 35,
   "id": "8bc1973b",
   "metadata": {},
   "outputs": [
    {
     "name": "stdout",
     "output_type": "stream",
     "text": [
      "[\n",
      "    {\n",
      "        \"date\": \"2025-08-11T00:00:00.000\",\n",
      "        \"mode\": \"LIRR\",\n",
      "        \"count\": \"254512.0\"\n",
      "    },\n",
      "    {\n",
      "        \"date\": \"2025-08-11T00:00:00.000\",\n",
      "        \"mode\": \"MNR\",\n",
      "        \"count\": \"211894.0\"\n",
      "    },\n",
      "    {\n",
      "        \"date\": \"2025-08-11T00:00:00.000\",\n",
      "        \"mode\": \"Subway\",\n",
      "        \"count\": \"3536290.0\"\n",
      "    }\n",
      "]\n"
     ]
    }
   ],
   "source": [
    "import requests\n",
    "import json\n",
    "\n",
    "def get_ny_data():\n",
    "    url = \"https://data.ny.gov/resource/sayj-mze2.json\"\n",
    "    try:\n",
    "        response = requests.get(url)\n",
    "        response.raise_for_status()  # Raise HTTPError for bad responses (4xx or 5xx)\n",
    "        data = response.json()\n",
    "        return data\n",
    "    except requests.exceptions.RequestException as e:\n",
    "        print(f\"An error occurred: {e}\")\n",
    "        return None\n",
    "\n",
    "if __name__ == \"__main__\":\n",
    "    ny_data = get_ny_data()\n",
    "    if ny_data:\n",
    "        print(json.dumps(ny_data[:3], indent=4))\n",
    "    else:\n",
    "        print(\"No data retrieved.\")"
   ]
  },
  {
   "cell_type": "markdown",
   "id": "53a81a4d",
   "metadata": {},
   "source": [
    "## Pre-process data"
   ]
  },
  {
   "cell_type": "code",
   "execution_count": 36,
   "id": "96e0b6c1",
   "metadata": {},
   "outputs": [
    {
     "data": {
      "text/html": [
       "<div>\n",
       "<style scoped>\n",
       "    .dataframe tbody tr th:only-of-type {\n",
       "        vertical-align: middle;\n",
       "    }\n",
       "\n",
       "    .dataframe tbody tr th {\n",
       "        vertical-align: top;\n",
       "    }\n",
       "\n",
       "    .dataframe thead th {\n",
       "        text-align: right;\n",
       "    }\n",
       "</style>\n",
       "<table border=\"1\" class=\"dataframe\">\n",
       "  <thead>\n",
       "    <tr style=\"text-align: right;\">\n",
       "      <th></th>\n",
       "      <th>date</th>\n",
       "      <th>count</th>\n",
       "      <th>7_day_avg</th>\n",
       "    </tr>\n",
       "  </thead>\n",
       "  <tbody>\n",
       "    <tr>\n",
       "      <th>995</th>\n",
       "      <td>2025-04-04T00:00:00.000</td>\n",
       "      <td>3990036.0</td>\n",
       "      <td>NaN</td>\n",
       "    </tr>\n",
       "    <tr>\n",
       "      <th>987</th>\n",
       "      <td>2025-04-05T00:00:00.000</td>\n",
       "      <td>2658935.0</td>\n",
       "      <td>NaN</td>\n",
       "    </tr>\n",
       "    <tr>\n",
       "      <th>971</th>\n",
       "      <td>2025-04-06T00:00:00.000</td>\n",
       "      <td>2059867.0</td>\n",
       "      <td>NaN</td>\n",
       "    </tr>\n",
       "    <tr>\n",
       "      <th>965</th>\n",
       "      <td>2025-04-07T00:00:00.000</td>\n",
       "      <td>3848628.0</td>\n",
       "      <td>NaN</td>\n",
       "    </tr>\n",
       "    <tr>\n",
       "      <th>961</th>\n",
       "      <td>2025-04-08T00:00:00.000</td>\n",
       "      <td>4324220.0</td>\n",
       "      <td>NaN</td>\n",
       "    </tr>\n",
       "  </tbody>\n",
       "</table>\n",
       "</div>"
      ],
      "text/plain": [
       "                        date      count  7_day_avg\n",
       "995  2025-04-04T00:00:00.000  3990036.0        NaN\n",
       "987  2025-04-05T00:00:00.000  2658935.0        NaN\n",
       "971  2025-04-06T00:00:00.000  2059867.0        NaN\n",
       "965  2025-04-07T00:00:00.000  3848628.0        NaN\n",
       "961  2025-04-08T00:00:00.000  4324220.0        NaN"
      ]
     },
     "execution_count": 36,
     "metadata": {},
     "output_type": "execute_result"
    }
   ],
   "source": [
    "import pandas as pd\n",
    "\n",
    "def clean_data(ny_data_df):\n",
    "    # Filter rows based on column: 'mode'\n",
    "    ny_data_df = ny_data_df[ny_data_df['mode'].str.contains(\"Subway\", regex=False, na=False, case=False)]\n",
    "    # Calculate 7-day trailing average of 'count' in descending date order\n",
    "    ny_data_df['7_day_avg'] = (\n",
    "        ny_data_df['count']\n",
    "        .astype(float)\n",
    "        .iloc[::-1]  # Reverse the order for correct trailing average\n",
    "        .rolling(window=7)\n",
    "        .mean()\n",
    "        .iloc[::-1]  # Reverse back to original order\n",
    "    )\n",
    "    ny_data_df.drop(columns=['mode'], inplace=True)\n",
    "    return ny_data_df\n",
    "\n",
    "# Loaded variable 'ny_data' from kernel state\n",
    "ny_data_df = pd.DataFrame(ny_data)\n",
    "ny_data_df_clean = clean_data(ny_data_df.copy())\n",
    "ny_data_df_clean = ny_data_df_clean.sort_values(by='date', ascending=True)\n",
    "ny_data_df_clean.head()"
   ]
  },
  {
   "cell_type": "code",
   "execution_count": 37,
   "id": "e5335c8d",
   "metadata": {},
   "outputs": [
    {
     "data": {
      "text/html": [
       "<div>\n",
       "<style scoped>\n",
       "    .dataframe tbody tr th:only-of-type {\n",
       "        vertical-align: middle;\n",
       "    }\n",
       "\n",
       "    .dataframe tbody tr th {\n",
       "        vertical-align: top;\n",
       "    }\n",
       "\n",
       "    .dataframe thead th {\n",
       "        text-align: right;\n",
       "    }\n",
       "</style>\n",
       "<table border=\"1\" class=\"dataframe\">\n",
       "  <thead>\n",
       "    <tr style=\"text-align: right;\">\n",
       "      <th></th>\n",
       "      <th>date</th>\n",
       "      <th>count</th>\n",
       "      <th>7_day_avg</th>\n",
       "    </tr>\n",
       "  </thead>\n",
       "  <tbody>\n",
       "    <tr>\n",
       "      <th>30</th>\n",
       "      <td>2025-08-07T00:00:00.000</td>\n",
       "      <td>3944006.0</td>\n",
       "      <td>3.414440e+06</td>\n",
       "    </tr>\n",
       "    <tr>\n",
       "      <th>27</th>\n",
       "      <td>2025-08-08T00:00:00.000</td>\n",
       "      <td>3653380.0</td>\n",
       "      <td>3.422360e+06</td>\n",
       "    </tr>\n",
       "    <tr>\n",
       "      <th>19</th>\n",
       "      <td>2025-08-09T00:00:00.000</td>\n",
       "      <td>2669104.0</td>\n",
       "      <td>3.423458e+06</td>\n",
       "    </tr>\n",
       "    <tr>\n",
       "      <th>12</th>\n",
       "      <td>2025-08-10T00:00:00.000</td>\n",
       "      <td>2199245.0</td>\n",
       "      <td>3.436332e+06</td>\n",
       "    </tr>\n",
       "    <tr>\n",
       "      <th>2</th>\n",
       "      <td>2025-08-11T00:00:00.000</td>\n",
       "      <td>3536290.0</td>\n",
       "      <td>3.426744e+06</td>\n",
       "    </tr>\n",
       "  </tbody>\n",
       "</table>\n",
       "</div>"
      ],
      "text/plain": [
       "                       date      count     7_day_avg\n",
       "30  2025-08-07T00:00:00.000  3944006.0  3.414440e+06\n",
       "27  2025-08-08T00:00:00.000  3653380.0  3.422360e+06\n",
       "19  2025-08-09T00:00:00.000  2669104.0  3.423458e+06\n",
       "12  2025-08-10T00:00:00.000  2199245.0  3.436332e+06\n",
       "2   2025-08-11T00:00:00.000  3536290.0  3.426744e+06"
      ]
     },
     "execution_count": 37,
     "metadata": {},
     "output_type": "execute_result"
    }
   ],
   "source": [
    "ny_data_df_clean.tail()"
   ]
  },
  {
   "cell_type": "code",
   "execution_count": null,
   "id": "b2dbf656",
   "metadata": {},
   "outputs": [
    {
     "ename": "NameError",
     "evalue": "name 'darts_model' is not defined",
     "output_type": "error",
     "traceback": [
      "\u001b[31m---------------------------------------------------------------------------\u001b[39m",
      "\u001b[31mNameError\u001b[39m                                 Traceback (most recent call last)",
      "\u001b[36mCell\u001b[39m\u001b[36m \u001b[39m\u001b[32mIn[42]\u001b[39m\u001b[32m, line 2\u001b[39m\n\u001b[32m      1\u001b[39m \u001b[38;5;66;03m# Fit on full data and forecast next day\u001b[39;00m\n\u001b[32m----> \u001b[39m\u001b[32m2\u001b[39m \u001b[43mdarts_model\u001b[49m.fit(series_scaled, future_covariates=future_covariates)\n\u001b[32m      4\u001b[39m \u001b[38;5;66;03m# Build future covariates for the next day as well\u001b[39;00m\n\u001b[32m      5\u001b[39m last_date = series.end_time()\n",
      "\u001b[31mNameError\u001b[39m: name 'darts_model' is not defined"
     ]
    }
   ],
   "source": [
    "# Initialize darts_model before fitting\n",
    "from darts.models import LightGBMModel\n",
    "\n",
    "lags = [-1, -2, -3, -4, -5, -6, -7, -14, -21]\n",
    "darts_model = LightGBMModel(\n",
    "    lags=lags,\n",
    "    lags_future_covariates=[0],  # use contemporaneous calendar/holiday features\n",
    "    output_chunk_length=1,\n",
    "    n_estimators=500,\n",
    "    learning_rate=0.05,\n",
    "    num_leaves=31,\n",
    "    random_state=42,\n",
    ")\n",
    "\n",
    "# Fit on full data and forecast next day\n",
    "darts_model.fit(series_scaled, future_covariates=future_covariates)"
   ]
  },
  {
   "cell_type": "code",
   "execution_count": null,
   "id": "22f4ad48",
   "metadata": {},
   "outputs": [],
   "source": [
    "# (Optional) Save the Darts prediction to the same CSV log used earlier\n",
    "SAVE_TO_CSV = True\n",
    "if SAVE_TO_CSV:\n",
    "    import os, csv\n",
    "    from datetime import datetime\n",
    "    log_file = 'C:\\\\Users\\\\Setup User\\\\Documents\\\\Codespaces\\\\MR Technology projects\\\\kalshi\\\\transportation\\\\Zach\\\\subway_predictions.csv'\n",
    "    file_exists = os.path.isfile(log_file)\n",
    "    with open(log_file, 'a', newline='') as f:\n",
    "        writer = csv.writer(f)\n",
    "        if not file_exists:\n",
    "            writer.writerow(['target_date', 'predicted', 'predicted_at'])\n",
    "        writer.writerow([DARTS_NEXT_DATE.strftime('%Y-%m-%d'), DARTS_NEXT_VALUE, datetime.now().isoformat()])\n",
    "    print(f\"Logged Darts prediction {DARTS_NEXT_VALUE:.2f} for {DARTS_NEXT_DATE.date()}\")"
   ]
  },
  {
   "cell_type": "markdown",
   "id": "02607ce3",
   "metadata": {},
   "source": [
    "## Forecast with Darts (LightGBMModel)\n",
    "\n",
    "We use Darts + LightGBM with calendar and holiday covariates. We backtest with rolling 1-step forecasts, then fit on all data to forecast the next day and log it."
   ]
  },
  {
   "cell_type": "code",
   "execution_count": null,
   "id": "58508d76",
   "metadata": {},
   "outputs": [],
   "source": [
    "from darts import TimeSeries\n",
    "from darts.dataprocessing.transformers import Scaler\n",
    "from darts.models import LightGBMModel\n",
    "from darts.utils.timeseries_generation import datetime_attribute_timeseries\n",
    "from darts.metrics import mae, smape\n",
    "import numpy as np\n",
    "import pandas as pd\n",
    "import holidays as pyholidays\n",
    "\n",
    "print(\"Darts imports OK\")"
   ]
  },
  {
   "cell_type": "code",
   "execution_count": null,
   "id": "fa08da99",
   "metadata": {},
   "outputs": [],
   "source": [
    "# Build daily TimeSeries from cleaned dataframe\n",
    "ny_df = ny_data_df_clean.copy()\n",
    "ny_df['date'] = pd.to_datetime(ny_df['date'])\n",
    "ny_df = ny_df.sort_values('date')\n",
    "ny_df['count'] = pd.to_numeric(ny_df['count'], errors='coerce')\n",
    "ny_df = ny_df.dropna(subset=['count']).set_index('date').asfreq('D')\n",
    "ny_df['count'] = ny_df['count'].interpolate(method='time').ffill().bfill()\n",
    "\n",
    "series = TimeSeries.from_series(ny_df['count'], fill_missing_dates=True, freq='D').astype(np.float32)\n",
    "series"
   ]
  },
  {
   "cell_type": "code",
   "execution_count": null,
   "id": "a7b81f58",
   "metadata": {},
   "outputs": [],
   "source": [
    "# Future covariates: calendar + holiday flags\n",
    "idx = pd.date_range(start=series.start_time(), end=series.end_time(), freq='D')\n",
    "# One-hot weekday (0-6)\n",
    "dow = datetime_attribute_timeseries(idx, attribute=\"weekday\", one_hot=True)\n",
    "# One-hot month (1-12)\n",
    "moy = datetime_attribute_timeseries(idx, attribute=\"month\", one_hot=True)\n",
    "# Weekend flag (Sat/Sun)\n",
    "weekend_flag = pd.Series((idx.weekday >= 5).astype(np.int8), index=idx)\n",
    "is_weekend = TimeSeries.from_series(weekend_flag, freq='D')\n",
    "\n",
    "# US holiday flag\n",
    "us_holidays = pyholidays.UnitedStates()\n",
    "holiday_flag = pd.Series(idx.map(lambda d: 1 if d in us_holidays else 0), index=idx)\n",
    "holidays_ts = TimeSeries.from_series(holiday_flag, freq='D')\n",
    "\n",
    "future_covariates = dow.stack(moy).stack(is_weekend).stack(holidays_ts)\n",
    "future_covariates"
   ]
  },
  {
   "cell_type": "code",
   "execution_count": null,
   "id": "cb22fb80",
   "metadata": {},
   "outputs": [],
   "source": [
    "# Scale target and backtest\n",
    "scaler = Scaler()\n",
    "series_scaled = scaler.fit_transform(series)\n",
    "\n",
    "lags = [-1, -2, -3, -4, -5, -6, -7, -14, -21]\n",
    "darts_model = LightGBMModel(\n",
    "    lags=lags,\n",
    "    lags_future_covariates=[0],  # use contemporaneous calendar/holiday features\n",
    "    output_chunk_length=1,\n",
    "    n_estimators=500,\n",
    "    learning_rate=0.05,\n",
    "    num_leaves=31,\n",
    "    random_state=42,\n",
    ")\n",
    "\n",
    "# Rolling 1-step backtest from 80%\n",
    "backtest_fcst_scaled = darts_model.historical_forecasts(\n",
    "    series=series_scaled,\n",
    "    future_covariates=future_covariates,\n",
    "    start=0.8,\n",
    "    forecast_horizon=1,\n",
    "    stride=1,\n",
    "    retrain=True,\n",
    "    last_points_only=True,\n",
    "    verbose=True,\n",
    ")\n",
    "\n",
    "backtest_fcst = scaler.inverse_transform(backtest_fcst_scaled)\n",
    "series_orig = scaler.inverse_transform(series_scaled)\n",
    "print(f\"Backtest MAE: {mae(series_orig.slice_intersect(backtest_fcst), backtest_fcst):.2f}\")\n",
    "print(f\"Backtest sMAPE: {smape(series_orig.slice_intersect(backtest_fcst), backtest_fcst):.2f}%\")"
   ]
  },
  {
   "cell_type": "code",
   "execution_count": null,
   "id": "07b9f1e9",
   "metadata": {},
   "outputs": [],
   "source": [
    "# Fit on full data and forecast next day\n",
    "darts_model.fit(series_scaled, future_covariates=future_covariates)\n",
    "\n",
    "last_date = series.end_time()\n",
    "next_date = last_date + pd.Timedelta(days=1)\n",
    "full_idx = pd.date_range(start=series.start_time(), end=next_date, freq='D')\n",
    "\n",
    "# Recreate covariates over the extended range using same attributes\n",
    "dow_f = datetime_attribute_timeseries(full_idx, attribute=\"weekday\", one_hot=True)\n",
    "moy_f = datetime_attribute_timeseries(full_idx, attribute=\"month\", one_hot=True)\n",
    "weekend_flag_f = pd.Series((full_idx.weekday >= 5).astype(np.int8), index=full_idx)\n",
    "is_weekend_f = TimeSeries.from_series(weekend_flag_f, freq='D')\n",
    "us_holidays = pyholidays.UnitedStates()\n",
    "holiday_flag_f = pd.Series(full_idx.map(lambda d: 1 if d in us_holidays else 0), index=full_idx)\n",
    "holidays_ts_f = TimeSeries.from_series(holiday_flag_f, freq='D')\n",
    "future_covariates_ext = dow_f.stack(moy_f).stack(is_weekend_f).stack(holidays_ts_f)\n",
    "\n",
    "next_scaled = darts_model.predict(n=1, future_covariates=future_covariates_ext)\n",
    "next_value = float(scaler.inverse_transform(next_scaled).values()[-1][0])\n",
    "print(f\"Next-day forecast (Darts LightGBM): {next_value:.0f}\")\n",
    "\n",
    "DARTS_NEXT_VALUE = next_value\n",
    "DARTS_NEXT_DATE = next_date"
   ]
  },
  {
   "cell_type": "code",
   "execution_count": null,
   "id": "d0b1d83e",
   "metadata": {},
   "outputs": [],
   "source": [
    "# Save forecast to CSV (same file as before)\n",
    "SAVE_TO_CSV = True\n",
    "if SAVE_TO_CSV:\n",
    "    import os, csv\n",
    "    from datetime import datetime\n",
    "    log_file = 'C:\\\\Users\\\\Setup User\\\\Documents\\\\Codespaces\\\\MR Technology projects\\\\kalshi\\\\transportation\\\\Zach\\\\subway_predictions.csv'\n",
    "    file_exists = os.path.isfile(log_file)\n",
    "    with open(log_file, 'a', newline='') as f:\n",
    "        writer = csv.writer(f)\n",
    "        if not file_exists:\n",
    "            writer.writerow(['target_date', 'predicted', 'predicted_at'])\n",
    "        writer.writerow([DARTS_NEXT_DATE.strftime('%Y-%m-%d'), DARTS_NEXT_VALUE, datetime.now().isoformat()])\n",
    "    print(f\"Logged Darts prediction {DARTS_NEXT_VALUE:.2f} for {DARTS_NEXT_DATE.date()}\")"
   ]
  }
 ],
 "metadata": {
  "kernelspec": {
   "display_name": ".venv",
   "language": "python",
   "name": "python3"
  },
  "language_info": {
   "codemirror_mode": {
    "name": "ipython",
    "version": 3
   },
   "file_extension": ".py",
   "mimetype": "text/x-python",
   "name": "python",
   "nbconvert_exporter": "python",
   "pygments_lexer": "ipython3",
   "version": "3.12.0"
  }
 },
 "nbformat": 4,
 "nbformat_minor": 5
}
